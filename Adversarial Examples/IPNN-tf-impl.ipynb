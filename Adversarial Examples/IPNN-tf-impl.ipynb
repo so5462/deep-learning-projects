{
 "cells": [
  {
   "cell_type": "markdown",
   "metadata": {
    "collapsed": true,
    "pycharm": {
     "is_executing": false
    }
   },
   "source": [
    "# Implementation of Intriguing Properties of NN (TensorFlow Implementation)"
   ]
  },
  {
   "cell_type": "code",
   "execution_count": 1,
   "metadata": {},
   "outputs": [],
   "source": [
    "from __future__ import absolute_import\n",
    "from __future__ import division\n",
    "from __future__ import print_function\n",
    "\n",
    "\n",
    "# Import initial dependancies\n",
    "import numpy as np\n",
    "import tensorflow as tf\n",
    "\n",
    "tf.enable_eager_execution()"
   ]
  },
  {
   "cell_type": "code",
   "execution_count": 2,
   "metadata": {},
   "outputs": [],
   "source": [
    "import matplotlib.pyplot as plt\n",
    "%matplotlib inline"
   ]
  },
  {
   "cell_type": "markdown",
   "metadata": {},
   "source": [
    "### Global vars"
   ]
  },
  {
   "cell_type": "code",
   "execution_count": 3,
   "metadata": {},
   "outputs": [],
   "source": [
    "weight_decay = 0\n",
    "num_epochs = 10\n",
    "batch_size = 128"
   ]
  },
  {
   "cell_type": "markdown",
   "metadata": {},
   "source": [
    "### Data Prep "
   ]
  },
  {
   "cell_type": "code",
   "execution_count": 4,
   "metadata": {},
   "outputs": [],
   "source": [
    "# mnist_train_ds, mnist_test_ds = datasets['train'], datasets['test']\n",
    "mnist = tf.keras.datasets.mnist\n",
    "(x_train, y_train), (x_test, y_test) = mnist.load_data()\n",
    "x_train, x_test = x_train / 255.0, x_test / 255.0\n",
    "\n",
    "# Use tf.data to batch and shuffle the ds\n",
    "mnist_train_ds = tf.data.Dataset.from_tensor_slices(\n",
    "    (x_train, y_train)).shuffle(1024).batch(32)\n",
    "\n",
    "mnist_test_ds = tf.data.Dataset.from_tensor_slices((x_test, y_test)).batch(batch_size)"
   ]
  },
  {
   "cell_type": "markdown",
   "metadata": {},
   "source": [
    "### Define a FC model"
   ]
  },
  {
   "cell_type": "code",
   "execution_count": 5,
   "metadata": {},
   "outputs": [],
   "source": [
    "from model import FC\n",
    "fc_model = FC()"
   ]
  },
  {
   "cell_type": "markdown",
   "metadata": {},
   "source": [
    "### Define a Loss and Optimizer"
   ]
  },
  {
   "cell_type": "code",
   "execution_count": 6,
   "metadata": {},
   "outputs": [],
   "source": [
    "# Since there are 10 different classes in this ds, define loss as categorical\n",
    "loss_func = tf.keras.losses.SparseCategoricalCrossentropy()\n",
    "optimizer = tf.keras.optimizers.Adam()\n",
    "\n",
    "# Set the metrics to measure the loss and accuracy of the model\n",
    "train_loss = tf.keras.metrics.Mean(name='train_loss')\n",
    "train_accuracy = tf.keras.metrics.SparseCategoricalAccuracy(name='train_accuracy')\n",
    "\n",
    "test_loss = tf.keras.metrics.Mean(name='test_loss')\n",
    "test_accuracy = tf.keras.metrics.SparseCategoricalAccuracy(name='test_accuracy')\n"
   ]
  },
  {
   "cell_type": "markdown",
   "metadata": {},
   "source": [
    "### Model training"
   ]
  },
  {
   "cell_type": "code",
   "execution_count": 7,
   "metadata": {},
   "outputs": [],
   "source": [
    "@tf.function\n",
    "def train_step(images, labels):\n",
    "    with tf.GradientTape() as tape:\n",
    "        predictions = fc_model(images)\n",
    "        loss = loss_func(labels, predictions)\n",
    "    gradients = tape.gradient(loss, fc_model.trainable_variables)\n",
    "    optimizer.apply_gradients(zip(gradients, fc_model.trainable_variables))\n",
    "    \n",
    "    train_loss(loss)\n",
    "    train_accuracy(labels, predictions)"
   ]
  },
  {
   "cell_type": "code",
   "execution_count": 8,
   "metadata": {},
   "outputs": [],
   "source": [
    "@tf.function\n",
    "def test_step(images, labels):\n",
    "    predictions = fc_model(images)\n",
    "    t_loss = loss_func(labels, predictions)\n",
    "    \n",
    "    test_loss(t_loss)\n",
    "    test_accuracy(labels, predictions)"
   ]
  },
  {
   "cell_type": "code",
   "execution_count": 9,
   "metadata": {
    "scrolled": true
   },
   "outputs": [
    {
     "name": "stdout",
     "output_type": "stream",
     "text": [
      "Epoch 1, Loss: 0.25813350081443787, Accuracy: 92.63166809082031, Test Loss: 0.1509578377008438, Test Accuracy: 95.38999938964844\n",
      "Epoch 2, Loss: 0.11316273361444473, Accuracy: 96.64166259765625, Test Loss: 0.11231496185064316, Test Accuracy: 96.45000457763672\n",
      "Epoch 3, Loss: 0.07703680545091629, Accuracy: 97.70667266845703, Test Loss: 0.10229221731424332, Test Accuracy: 96.87999725341797\n",
      "Epoch 4, Loss: 0.056369755417108536, Accuracy: 98.31500244140625, Test Loss: 0.0951400175690651, Test Accuracy: 97.0999984741211\n",
      "Epoch 5, Loss: 0.04166274517774582, Accuracy: 98.80833435058594, Test Loss: 0.09396157413721085, Test Accuracy: 97.12999725341797\n",
      "Epoch 6, Loss: 0.03182442486286163, Accuracy: 99.11666870117188, Test Loss: 0.08917468786239624, Test Accuracy: 97.33000183105469\n",
      "Epoch 7, Loss: 0.02418573945760727, Accuracy: 99.34333801269531, Test Loss: 0.1008484959602356, Test Accuracy: 97.18000030517578\n",
      "Epoch 8, Loss: 0.019030239433050156, Accuracy: 99.48500061035156, Test Loss: 0.0984041690826416, Test Accuracy: 97.31999969482422\n",
      "Epoch 9, Loss: 0.015843603760004044, Accuracy: 99.56500244140625, Test Loss: 0.10521487891674042, Test Accuracy: 97.18000030517578\n",
      "Epoch 10, Loss: 0.013286374509334564, Accuracy: 99.61500549316406, Test Loss: 0.10607665032148361, Test Accuracy: 97.39999389648438\n"
     ]
    }
   ],
   "source": [
    "# Train the model\n",
    "for epoch in range(num_epochs):\n",
    "    # Reset the metrics at the start of each epoch\n",
    "    train_loss.reset_states()\n",
    "    train_accuracy.reset_states()\n",
    "    \n",
    "    test_loss.reset_states()\n",
    "    test_accuracy.reset_states()\n",
    "    \n",
    "    \n",
    "    \n",
    "    for images, labels in mnist_train_ds:\n",
    "        train_step(images, labels)\n",
    "        \n",
    "    for test_images, test_labels in mnist_test_ds:\n",
    "        test_step(test_images, test_labels)\n",
    "        \n",
    "    template = 'Epoch {}, Loss: {}, Accuracy: {}, Test Loss: {}, Test Accuracy: {}'\n",
    "    print(template.format(epoch+1,\n",
    "                          train_loss.result(),\n",
    "                          train_accuracy.result() * 100,\n",
    "                          test_loss.result(),\n",
    "                          test_accuracy.result() * 100))\n",
    "    "
   ]
  },
  {
   "cell_type": "code",
   "execution_count": 10,
   "metadata": {
    "scrolled": true
   },
   "outputs": [
    {
     "name": "stdout",
     "output_type": "stream",
     "text": [
      "Model: \"fc\"\n",
      "_________________________________________________________________\n",
      "Layer (type)                 Output Shape              Param #   \n",
      "=================================================================\n",
      "sequential (Sequential)      multiple                  101770    \n",
      "=================================================================\n",
      "Total params: 101,770\n",
      "Trainable params: 101,770\n",
      "Non-trainable params: 0\n",
      "_________________________________________________________________\n"
     ]
    }
   ],
   "source": [
    "fc_model.summary()"
   ]
  },
  {
   "cell_type": "markdown",
   "metadata": {},
   "source": [
    "# Units of  *φ(x)*"
   ]
  },
  {
   "cell_type": "markdown",
   "metadata": {},
   "source": [
    "*x′ = arg max⟨φ(x), J⟩*, where *J* is the data that was not used for training"
   ]
  },
  {
   "cell_type": "code",
   "execution_count": 130,
   "metadata": {
    "scrolled": true
   },
   "outputs": [],
   "source": [
    "\n",
    "for i in range(5):\n",
    "    unit_vec = tf.eye(128)[i,:]\n",
    "    \n",
    "    for data in mnist_test_ds.batch(3):\n",
    "        for image in data[0]:\n",
    "            x = tf.cast(image, 'float32')        \n",
    "            if (x.shape[1] != batch_size):\n",
    "                break\n",
    "            values = tf.multiply(x, unit_vec)\n",
    "        \n",
    "    \n",
    "    # TODO: Display the images with the vector projections\n",
    "    \n",
    "    \n",
    "        \n",
    "    "
   ]
  },
  {
   "cell_type": "code",
   "execution_count": 125,
   "metadata": {},
   "outputs": [],
   "source": [
    "def show_image(image):\n",
    "    plt.figure(figsize=(5, 20))\n",
    "    plt.imshow(image)\n",
    "    plt.show()"
   ]
  },
  {
   "cell_type": "code",
   "execution_count": null,
   "metadata": {},
   "outputs": [],
   "source": []
  }
 ],
 "metadata": {
  "kernelspec": {
   "display_name": "Pyton (DL_36)",
   "language": "python",
   "name": "dl_36"
  },
  "language_info": {
   "codemirror_mode": {
    "name": "ipython",
    "version": 3
   },
   "file_extension": ".py",
   "mimetype": "text/x-python",
   "name": "python",
   "nbconvert_exporter": "python",
   "pygments_lexer": "ipython3",
   "version": "3.6.8"
  }
 },
 "nbformat": 4,
 "nbformat_minor": 1
}
