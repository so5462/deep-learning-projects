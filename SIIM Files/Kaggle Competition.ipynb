{
 "cells": [
  {
   "cell_type": "code",
   "execution_count": null,
   "metadata": {
    "scrolled": true
   },
   "outputs": [],
   "source": [
    "# Import initial dependancies\n",
    "import tensorflow as tf\n",
    "import pydicom as dicom\n",
    "import pandas as pd\n",
    "import os\n",
    "import PIL\n",
    "import csv\n",
    "import cv2"
   ]
  },
  {
   "cell_type": "code",
   "execution_count": null,
   "metadata": {},
   "outputs": [],
   "source": [
    "# Convert .dcm -> .jpeg\n",
    "dcm_dir_path_train = \"Data/SIIM/dicom-images-train\"\n",
    "dcm_dir_path_test = \"Data/SIIM/dicom-images-test\"\n",
    "\n",
    "jpg_dir_path_train = \"Data/SIIM_JPEG/jpeg-images-train\"\n",
    "\n",
    "def extract_images(dcm_path, jpg_path):\n",
    "    if (not os.path.exists(jpg_path)):\n",
    "        os.makedirs(jpg_path)\n",
    "        \n",
    "    dcm_dirs = os.listdir(dcm_path)\n",
    "    \n",
    "    # Check if the files were already converted to JPEG\n",
    "    if (len(dcm_dirs)-1 == len(os.listdir(jpg_path))):\n",
    "        print(\"Files have been converted already!\")\n",
    "        return\n",
    "        \n",
    "    print(\"Processing...\")\n",
    "    for dcm_dir in dcm_dirs:\n",
    "        if (not dcm_dir.endswith('.DS_Store')):\n",
    "            for inner_dcm_dir in os.listdir(os.path.join(dcm_path, dcm_dir)):              \n",
    "                if (not inner_dcm_dir.endswith('.DS_Store')):\n",
    "                    dcm_image_path = os.path.join(os.path.join(dcm_path, dcm_dir), inner_dcm_dir)\n",
    "                    for dcm_file in os.listdir(dcm_image_path): \n",
    "                        image = dcm_file.replace('.dcm', '.jpeg')\n",
    "                        # Check if the file already exists\n",
    "                        jpeg_file_path = os.path.join(jpg_path, image)\n",
    "                        if (not os.path.exists(jpeg_file_path)):\n",
    "                            dcm_image = dicom.dcmread(os.path.join(dcm_image_path, dcm_file))\n",
    "                            pixel_array_numpy = dcm_image.pixel_array\n",
    "                            cv2.imwrite(jpeg_file_path, pixel_array_numpy)\n",
    "\n",
    "            \n",
    "    print(\"Finished!\")\n",
    "    print(\"DCM_DIRS LENGTH: \" + str(len(dcm_dirs)))"
   ]
  },
  {
   "cell_type": "code",
   "execution_count": null,
   "metadata": {},
   "outputs": [],
   "source": [
    "import glob\n",
    "import matplotlib.pyplot as plt\n",
    "\n",
    "def extract_info(dcm_path, ds, print_general_info=True, attribs=[]):\n",
    "    patient_name = ds.PatientName\n",
    "    display_name = patient_name.family_name\n",
    "    \n",
    "    if (print_general_info):\n",
    "        print(\"Filename............: \" + dcm_path.split('/')[-1])\n",
    "        print(\"Storage Type........: \" + ds.SOPClassUID)\n",
    "        print(\"Patient's Name......: \" + display_name)\n",
    "        print(\"Patient ID..........: \" + ds.PatientID)\n",
    "        print(\"Patient Age.........: \" + ds.PatientAge)\n",
    "        print(\"Patient's Sex.......: \" + ds.PatientSex)\n",
    "        print(\"Modality............: \" + ds.Modality)\n",
    "        print(\"Examined Body Part..: \" + ds.BodyPartExamined)\n",
    "        print(\"View Position.......: \" + ds.ViewPosition)\n",
    "\n",
    "        if 'PixelData' in ds:\n",
    "            rows = int(ds.Rows)\n",
    "            cols = int(ds.Columns)\n",
    "            print(\"Image Size..........: {rows:d} x {cols:d}, {size:d} bytes\".format(\n",
    "                rows=rows,\n",
    "                cols=cols,\n",
    "                size=len(ds.PixelData)))\n",
    "\n",
    "            if 'PixelSpacing' in ds:\n",
    "                print(\"Pixel Spacing.......: \" + str(ds.PixelSpacing))\n",
    "                \n",
    "                \n",
    "                \n",
    "    else:\n",
    "        print(type(ds))\n",
    "            \n",
    "        \n",
    "def plot_pixel_array(ds, figsize=(10, 10)):\n",
    "    plt.figure(figsize=figsize)\n",
    "    plt.imshow(ds.pixel_array, cmap=plt.cm.bone)\n",
    "    plt.grid(False)\n",
    "    plt.show()\n",
    "    "
   ]
  },
  {
   "cell_type": "code",
   "execution_count": null,
   "metadata": {},
   "outputs": [],
   "source": [
    "extract_images(dcm_dir_path_train, jpg_dir_path_train)"
   ]
  },
  {
   "cell_type": "code",
   "execution_count": null,
   "metadata": {
    "scrolled": false
   },
   "outputs": [],
   "source": [
    "# Test some params for one of the images\n",
    "for dcm_path in glob.glob(dcm_dir_path_train + '/*/*/*.dcm'):\n",
    "    ds = dicom.dcmread(dcm_path)\n",
    "    extract_info(dcm_path, ds)\n",
    "    plot_pixel_array(ds)\n",
    "    break"
   ]
  },
  {
   "cell_type": "code",
   "execution_count": null,
   "metadata": {},
   "outputs": [],
   "source": [
    "from mask_functions import *\n",
    "import time\n",
    "\n",
    "# X-Ray With Masking\n",
    "\n",
    "train_rle = 'Data/SIIM/train-rle.csv'\n",
    "dcm_file_paths = dcm_dir_path_train + '/*/*/*.dcm'\n",
    "dcm_file_path_dir = dcm_dir_path_train + '/*/*/'\n",
    "num_images = 15\n",
    "\n",
    "# Read train RLE data and store them in dictionary\n",
    "df_rle = pd.read_csv(train_rle)\n",
    "\n",
    "# fig, ax = plt.subplots(nrows=num_images // 5, ncols=5, sharey=True, figsize=(20, num_images // 5 * 4))\n",
    "# axes = ax.ravel()\n",
    "\n",
    "\n",
    "def get_labels_helper(i, labels, masks):\n",
    "    image_id = df_rle.loc[i, 'ImageId']\n",
    "    enc_pixel = df_rle.loc[i, ' EncodedPixels']\n",
    "    if (os.path.exists(glob.glob(dcm_file_path_dir + image_id + '.dcm')[0])):\n",
    "        if (enc_pixel.strip() != \"-1\"):\n",
    "            image_rle_mask = rle2mask(enc_pixel, 1024, 1024)\n",
    "            masks[image_id] = image_rle_mask\n",
    "            labels.append(1)\n",
    "        else:\n",
    "            labels.append(0)\n",
    "            \n",
    "def get_image_paths(i, paths_dict):\n",
    "    image_id = df_rle.loc[i, 'ImageId']   \n",
    "    temp_path = glob.glob(dcm_file_path_dir + image_id + '.dcm')[0]\n",
    "\n",
    "\n",
    "def get_labels():\n",
    "    labels = []\n",
    "    masks = {}\n",
    "            \n",
    "    for i in range(len(df_rle)):\n",
    "        if (i % 100 == 0):\n",
    "            print(\"First \" + (str(i)))\n",
    "                  \n",
    "        image_id = df_rle.loc[i, 'ImageId']\n",
    "        enc_pixel = df_rle.loc[i, ' EncodedPixels']\n",
    "        if (os.path.exists(glob.glob(dcm_file_path_dir + image_id + '.dcm')[0])):\n",
    "            if (enc_pixel.strip() != \"-1\"):\n",
    "                image_rle_mask = rle2mask(enc_pixel, 1024, 1024)\n",
    "                masks[image_id] = image_rle_mask\n",
    "                labels.append(1)\n",
    "            else:\n",
    "                labels.append(0)\n",
    "\n",
    "    return (labels, masks)"
   ]
  },
  {
   "cell_type": "code",
   "execution_count": null,
   "metadata": {
    "scrolled": false
   },
   "outputs": [],
   "source": [
    "import multiprocessing as mp\n",
    "from multiprocessing.pool import Pool, ThreadPool\n",
    "from joblib import Parallel, delayed\n",
    "import numpy as np\n",
    "import pandas as pd\n",
    "\n",
    "labels, masks = get_labels()"
   ]
  },
  {
   "cell_type": "code",
   "execution_count": null,
   "metadata": {},
   "outputs": [],
   "source": [
    "labels"
   ]
  },
  {
   "cell_type": "code",
   "execution_count": null,
   "metadata": {
    "scrolled": false
   },
   "outputs": [],
   "source": [
    "\n",
    "\n",
    "# Gather feature info\n",
    "dicom_features = ['PatientAge',\n",
    "                 'PatientSex',\n",
    "                 'ViewPosition',\n",
    "                 'PixelSpacing',\n",
    "                 'Rows',\n",
    "                 'Columns']\n",
    "\n",
    "def get_features(dcm_file, attribs):\n",
    "    memo = []\n",
    "    memo.append(dcm_file.split('/')[-1])\n",
    "    ds = dicom.dcmread(dcm_file)\n",
    "    for data in attribs:\n",
    "        memo.append(ds.__getattr__(data))\n",
    "    \n",
    "    return np.array(memo).T\n",
    "\n",
    "def fetch_data_info(dcm_file_paths, attributes):\n",
    "    dicom_df = Parallel(n_jobs=mp.cpu_count(), verbose=1)(\n",
    "        (delayed(get_features)(dcm_file, attributes) for dcm_file in glob.glob(dcm_file_paths)))        \n",
    "    \n",
    "    return dicom_df\n",
    "\n",
    "dicom_df = fetch_data_info(dcm_file_paths, dicom_features)"
   ]
  },
  {
   "cell_type": "code",
   "execution_count": null,
   "metadata": {},
   "outputs": [],
   "source": [
    "dicom_df = pd.DataFrame(np.array(dicom_df), columns=['ImageId'] + dicom_features)\n",
    "dicom_df.head()"
   ]
  },
  {
   "cell_type": "code",
   "execution_count": null,
   "metadata": {},
   "outputs": [],
   "source": [
    "image_mask = rle2mask(image, 1024, 1024)"
   ]
  }
 ],
 "metadata": {
  "kernelspec": {
   "display_name": "Pyton (DL_36)",
   "language": "python",
   "name": "dl_36"
  },
  "language_info": {
   "codemirror_mode": {
    "name": "ipython",
    "version": 3
   },
   "file_extension": ".py",
   "mimetype": "text/x-python",
   "name": "python",
   "nbconvert_exporter": "python",
   "pygments_lexer": "ipython3",
   "version": "3.6.8"
  }
 },
 "nbformat": 4,
 "nbformat_minor": 2
}
